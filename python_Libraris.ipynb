{
 "cells": [
  {
   "cell_type": "markdown",
   "metadata": {},
   "source": [
    "# Their are some python libaris\n",
    "> Numpy, Scipy, Pandas, Scikt-learn, Matplotlib, Seaborn, Plotly."
   ]
  },
  {
   "cell_type": "markdown",
   "metadata": {},
   "source": [
    "1. NumPy: This is a short form of numerical Python. It is the most powerful scientific library available in Python for handling multidimensional arrays, matrices, and methods in order to compute mathematics efficiently.\n",
    "\n",
    "\n",
    "2. SciPy: This is also a powerful scientific computing library for performing scientific, mathematical, and engineering operations.\n",
    "\n",
    "\n",
    "3. Pandas: This is a data exploration and manipulation library that offers tabular data structures such as DataFrames and various methods for data analysis and manipulation.\n",
    "\n",
    "\n",
    "4. Scikit-learn: This stands for \"Scientific Toolkit for Machine learning\". It is a machine learning library that offers a variety of supervised and unsupervised algorithms, such as regression, classification, dimensionality reduction, cluster analysis, and anomaly detection.\n",
    "\n",
    "\n",
    "5. Matplotlib: This is a core data visualization library and is the base library for all other visualization libraries in Python. It offers 2D and 3D plots, graphs, charts, and figures for data exploration. It runs on top of NumPy and SciPy.\n",
    "\n",
    "\n",
    "6. Seaborn: This is based on Matplotlib and offers easy to draw, high-level, interactive, and more organized plots.\n",
    "\n",
    "\n",
    "7. Plotly: Plotly is a data visualization library. It offers high quality and interactive graphs, such as scatter charts, line charts, bar charts, histograms, boxplots, heatmaps, and subplots."
   ]
  },
  {
   "cell_type": "markdown",
   "metadata": {},
   "source": [
    "# PYTHON PACKAGES FOR PANDAS"
   ]
  },
  {
   "cell_type": "code",
   "execution_count": 87,
   "metadata": {},
   "outputs": [],
   "source": [
    "import numpy as np\n",
    "import pandas as pd\n"
   ]
  },
  {
   "cell_type": "code",
   "execution_count": 152,
   "metadata": {},
   "outputs": [
    {
     "name": "stdout",
     "output_type": "stream",
     "text": [
      "0     1\n",
      "1     3\n",
      "2    32\n",
      "3     3\n",
      "4    42\n",
      "5     4\n",
      "6     4\n",
      "7     7\n",
      "dtype: int64\n"
     ]
    }
   ],
   "source": [
    "# Creating a Series by passing a list of values, letting pandas create a default integer index:\n",
    "\n",
    "s = pd.Series([1,3,32,3,42, 4,7])\n",
    "print(s)"
   ]
  },
  {
   "cell_type": "code",
   "execution_count": 163,
   "metadata": {},
   "outputs": [
    {
     "name": "stdout",
     "output_type": "stream",
     "text": [
      "DatetimeIndex(['2022-07-08', '2022-07-09', '2022-07-10', '2022-07-11',\n",
      "               '2022-07-12', '2022-07-13', '2022-07-14'],\n",
      "              dtype='datetime64[ns]', freq='D')\n",
      "                   a         b         c         d         e         f\n",
      "2022-07-08  0.576587 -1.263870 -0.219578 -1.030446  0.172163  1.498818\n",
      "2022-07-09 -0.332182  1.797082 -1.384102  0.848190  0.789702  0.303632\n",
      "2022-07-10 -0.162132  0.934930  1.124216  0.375916  0.372137  0.528237\n",
      "2022-07-11  0.574701 -1.853907 -0.588881  0.704618 -1.982407  1.025595\n",
      "2022-07-12  0.667200  1.035017 -0.830396  1.021452  0.576320  0.705602\n",
      "2022-07-13 -0.047203 -0.944950  0.670371  1.484633  1.000467 -1.790471\n",
      "2022-07-14 -1.594445  2.520369  0.399168 -2.032648  2.447106 -1.297694\n"
     ]
    }
   ],
   "source": [
    "#Creating a DataFrame by passing a NumPy array, with a datetime index and labeled columns:\n",
    "\n",
    "dates = pd.date_range(\"20220708\", periods = 7)\n",
    "print(dates)\n",
    "\n",
    "df = pd.DataFrame(np.random.randn(7, 6), index=dates, columns=list(\"abcdef\"))\n",
    "\n",
    "print(df)"
   ]
  },
  {
   "cell_type": "code",
   "execution_count": 164,
   "metadata": {},
   "outputs": [
    {
     "name": "stdout",
     "output_type": "stream",
     "text": [
      "          a         b         c         d         e         f\n",
      "1  0.998618  1.687498 -0.555126  2.524932  1.009462  0.030440\n",
      "2  0.966386 -0.899722  1.215355  0.890602  0.714938  1.308230\n",
      "3 -1.085193  0.243830  0.717682 -0.051641 -0.819642 -1.623812\n",
      "2 -1.186979  1.811813  0.061928 -2.260935  0.956592 -0.591876\n",
      "4 -0.344256  0.611057  1.657676 -2.132171  0.909590  0.237574\n",
      "5 -0.284625 -0.273778 -0.520118 -0.639945 -0.556133 -0.532242\n",
      "6  2.184476  1.310907 -0.166381 -0.462481 -0.597268  0.325540\n",
      "7  1.000400  2.525346 -0.363334  1.418402 -0.848721  1.119074\n"
     ]
    }
   ],
   "source": [
    "#Creating a DataFrame by passing a NumPy array, with a datetime index and labeled columns:\n",
    "\n",
    "s = pd.Series([1,2,3,2,4, 5,6,7])\n",
    "\n",
    "df = pd.DataFrame( (8, 6), index=s, columns=list(\"abcdef\"))\n",
    "\n",
    "print(df)"
   ]
  },
  {
   "cell_type": "code",
   "execution_count": 155,
   "metadata": {},
   "outputs": [
    {
     "name": "stdout",
     "output_type": "stream",
     "text": [
      "   A          B    C   D    E       F\n",
      "0  1 2021-03-05  1.0  67  foo    test\n",
      "1  1 2021-03-05  1.0  67  foo   train\n",
      "2  1 2021-03-05  1.0  67  foo  tometo\n",
      "3  1 2021-03-05  1.0  67  foo     rje\n",
      "4  1 2021-03-05  1.0  67  foo  sdghgg\n"
     ]
    }
   ],
   "source": [
    "#Creating a DataFrame by passing a dictionary of objects that can be converted into a series-like structure:\n",
    "\n",
    "df2 = pd.DataFrame(\n",
    "    {\n",
    "        \"A\": 1,\n",
    "        \"B\": pd.Timestamp(\"20210305\"),\n",
    "        \"C\": pd.Series(1, index = list(range(5)), dtype = \"float32\"),\n",
    "        \"D\": np.array([67]* 5, dtype = \"int32\"),\n",
    "        \"E\": \"foo\",\n",
    "        \"F\": pd.Categorical([\"test\",\"train\",\"tometo\",\"rje\",\"sdghgg\"]),\n",
    "    }\n",
    ")\n",
    "print(df2)"
   ]
  },
  {
   "cell_type": "code",
   "execution_count": null,
   "metadata": {},
   "outputs": [],
   "source": []
  },
  {
   "cell_type": "markdown",
   "metadata": {},
   "source": [
    "# Python.append() and .extend() Methods"
   ]
  },
  {
   "cell_type": "markdown",
   "metadata": {},
   "source": [
    "The append() method adds a single element towards the end of a list."
   ]
  },
  {
   "cell_type": "markdown",
   "metadata": {},
   "source": [
    "> Example"
   ]
  },
  {
   "cell_type": "code",
   "execution_count": 1,
   "metadata": {},
   "outputs": [
    {
     "name": "stdout",
     "output_type": "stream",
     "text": [
      "['January', 'February', 'March', 'April']\n"
     ]
    }
   ],
   "source": [
    "# list.append( adds a single element to a list)\n",
    "\n",
    "months = ['January', 'February','March']\n",
    "months.append('April')\n",
    "\n",
    "print(months)"
   ]
  },
  {
   "cell_type": "code",
   "execution_count": 72,
   "metadata": {},
   "outputs": [
    {
     "name": "stdout",
     "output_type": "stream",
     "text": [
      "X =  [1, 2, 3, 4]\n",
      "Y =  [1, 2, 3, 4, 5]\n"
     ]
    }
   ],
   "source": [
    "\n",
    "\"\"\"\n",
    "    When i used \".append()\" methods then i input 1 valu.\n",
    "    But when i input one or more valu then we used \".extend()\" methods.\n",
    "\"\"\"\n",
    "\n",
    "x = [1, 2, 3]\n",
    "x.append(4)         # add one valu.\n",
    "\n",
    "print(\"X = \",x)\n",
    "\n",
    "y = [1, 2, 3]\n",
    "y.extend([4, 5])    # add two valus.\n",
    "\n",
    "print(\"Y = \",y)"
   ]
  },
  {
   "cell_type": "markdown",
   "metadata": {},
   "source": [
    "# The standard process of data analysis"
   ]
  },
  {
   "cell_type": "markdown",
   "metadata": {},
   "source": [
    "1. Collecting Data: Collect and gather data from several sources.\n",
    "\n",
    "2. Preprocessing Data: Filter, clean, and transform the data into the required format.\n",
    "\n",
    "3. Analyzing and Finding Insights: Explore, describe, and visualize the data and find insights and conclusions.\n",
    "\n",
    "4. Insights Interpretations: Understand the insights and find the impact each variable has on the system.\n",
    "\n",
    "5. Storytelling: Communicate your results in the form of a story so that a layman can understand them."
   ]
  },
  {
   "cell_type": "markdown",
   "metadata": {},
   "source": [
    "# The KDD process\n",
    "    Knowledge Discovery From data.\n",
    "    Knowledge Discovery in Databases."
   ]
  },
  {
   "cell_type": "markdown",
   "metadata": {},
   "source": [
    "1. ata Cleaning: \n",
    "In this first phase, data is preprocessed. Here, noise is removed, missing values are handled, and outliers are detected.\n",
    "\n",
    "2. Data Integration:\n",
    "In this phase, data from different sources is combined and integrated together using data migration and ETL tools.\n",
    "\n",
    "3. Data Selection: \n",
    "In this phase, relevant data for the analysis task is recollected.\n",
    "\n",
    "4. Data Transformation: In this phase, data is engineered in the required appropriate form for analysis.\n",
    "\n",
    "5. Data Mining: In this phase, data mining techniques are used to discover useful and unknown patterns.\n",
    "\n",
    "6. Pattern Evaluation: In this phase, the extracted patterns are evaluated.\n",
    "\n",
    "7. Knowledge Presentation: After pattern evaluation, the extracted knowledge needs to be visualized and presented to business people for decision-making purposes.                                                    "
   ]
  },
  {
   "cell_type": "markdown",
   "metadata": {},
   "source": [
    "#  Python Built in Modules"
   ]
  },
  {
   "cell_type": "markdown",
   "metadata": {},
   "source": [
    "#### There are some Modules here.\n",
    "###### 1. OS Modules.\n",
    "###### 2. Sys Modules.\n",
    "###### 3. Math Modules.\n",
    "###### 4. Statistics Modules.\n",
    "###### 5. Collections Modules.\n",
    "###### 6. Random Modules."
   ]
  },
  {
   "cell_type": "markdown",
   "metadata": {},
   "source": [
    "## 3. Math Modules"
   ]
  },
  {
   "cell_type": "markdown",
   "metadata": {},
   "source": [
    "> # numpy library"
   ]
  },
  {
   "cell_type": "markdown",
   "metadata": {},
   "source": [
    ">The nump arra attributes"
   ]
  },
  {
   "cell_type": "code",
   "execution_count": 12,
   "metadata": {},
   "outputs": [
    {
     "name": "stdout",
     "output_type": "stream",
     "text": [
      "<module 'numpy' from 'C:\\\\Users\\\\rokon\\\\anaconda3\\\\lib\\\\site-packages\\\\numpy\\\\__init__.py'>\n"
     ]
    }
   ],
   "source": [
    "import numpy\n",
    "\n",
    "print(numpy)\n"
   ]
  },
  {
   "cell_type": "code",
   "execution_count": 29,
   "metadata": {},
   "outputs": [
    {
     "name": "stdout",
     "output_type": "stream",
     "text": [
      "[[ 0  1  2  3  4]\n",
      " [ 5  6  7  8  9]\n",
      " [10 11 12 13 14]]\n",
      "\n",
      "\n",
      "(3, 5)\n",
      "\n",
      "\n",
      "2\n",
      "\n",
      "\n",
      "int32\n",
      "\n",
      "\n",
      "4\n",
      "\n",
      "\n",
      "15\n",
      "\n",
      "\n",
      "<class 'numpy.ndarray'>\n"
     ]
    }
   ],
   "source": [
    "# Exmple of \"numpy\" library\n",
    "\n",
    "\n",
    "import numpy as np\n",
    "a = np.arange(15).reshape(3, 5)\n",
    "print(a)\n",
    "\n",
    "print(\"\\n\")\n",
    "\n",
    "print(a.shape)\n",
    "\n",
    "print(\"\\n\")\n",
    "\n",
    "print(a.ndim)\n",
    "\n",
    "print(\"\\n\")\n",
    "\n",
    "print(a.dtype.name)\n",
    "\n",
    "print(\"\\n\")\n",
    "\n",
    "print(a.itemsize)\n",
    "\n",
    "print(\"\\n\")\n",
    "\n",
    "print(a.size)\n",
    "\n",
    "print(\"\\n\")\n",
    "\n",
    "print(type(a))"
   ]
  },
  {
   "cell_type": "code",
   "execution_count": 14,
   "metadata": {},
   "outputs": [
    {
     "name": "stdout",
     "output_type": "stream",
     "text": [
      "[[1.+0.j 2.+0.j]\n",
      " [3.+0.j 4.+0.j]]\n"
     ]
    }
   ],
   "source": [
    "c = np.array( [ [1,2], [3,4] ], dtype=complex )\n",
    "print(c)"
   ]
  },
  {
   "cell_type": "code",
   "execution_count": 10,
   "metadata": {},
   "outputs": [
    {
     "name": "stdout",
     "output_type": "stream",
     "text": [
      "[[1 2 3 4]\n",
      " [5 6 7 8]]\n"
     ]
    }
   ],
   "source": [
    "# Import `numpy` as `np`\n",
    "import numpy as np\n",
    " \n",
    "# Make the array `my_array`\n",
    "my_array = np.array([[1,2,3,4], [5,6,7,8]], dtype=np.int64)\n",
    "\n",
    "# Print `my_array`\n",
    "print(my_array)"
   ]
  },
  {
   "cell_type": "code",
   "execution_count": 13,
   "metadata": {},
   "outputs": [
    {
     "name": "stdout",
     "output_type": "stream",
     "text": [
      "[6 7 8]\n",
      "<class 'numpy.ndarray'>\n",
      "[6 7 8]\n"
     ]
    }
   ],
   "source": [
    "from numpy import *\n",
    "b = np.array([6, 7, 8], dtype = int64)\n",
    "print(b)\n",
    "\n",
    "print(type(b))\n",
    "a = b\n",
    "\n",
    "print(a)"
   ]
  },
  {
   "cell_type": "markdown",
   "metadata": {},
   "source": [
    "## 6. Random Modules\n",
    "\n",
    "\n"
   ]
  },
  {
   "cell_type": "code",
   "execution_count": 47,
   "metadata": {},
   "outputs": [
    {
     "data": {
      "text/plain": [
       "0.9135212432222998"
      ]
     },
     "execution_count": 47,
     "metadata": {},
     "output_type": "execute_result"
    }
   ],
   "source": [
    "# Generate Random Floats\n",
    "\n",
    "import random\n",
    "random.random()"
   ]
  },
  {
   "cell_type": "code",
   "execution_count": 19,
   "metadata": {},
   "outputs": [
    {
     "data": {
      "text/plain": [
       "10"
      ]
     },
     "execution_count": 19,
     "metadata": {},
     "output_type": "execute_result"
    }
   ],
   "source": [
    "# Generate Random Integers\n",
    "\n",
    "import random\n",
    "random.randint(1, 20)"
   ]
  },
  {
   "cell_type": "code",
   "execution_count": 22,
   "metadata": {},
   "outputs": [
    {
     "name": "stdout",
     "output_type": "stream",
     "text": [
      "5\n"
     ]
    }
   ],
   "source": [
    "# import random\n",
    "import random\n",
    "  \n",
    "# prints a random value from the list\n",
    "list1 = [1, 2, 3, 4, 5, 6]\n",
    "print(random.choice(list1))"
   ]
  },
  {
   "cell_type": "code",
   "execution_count": 35,
   "metadata": {},
   "outputs": [
    {
     "data": {
      "text/plain": [
       "0.8444218515250481"
      ]
     },
     "execution_count": 35,
     "metadata": {},
     "output_type": "execute_result"
    }
   ],
   "source": [
    "# import random\n",
    "import random\n",
    "\n",
    "random.seed(.0)\n",
    "\n",
    "random.random()\n"
   ]
  },
  {
   "cell_type": "code",
   "execution_count": 36,
   "metadata": {},
   "outputs": [
    {
     "name": "stdout",
     "output_type": "stream",
     "text": [
      "Random number between 5 and 15 is 11\n",
      "Random number between -10 and -2 is -10\n"
     ]
    }
   ],
   "source": [
    "# randint() function\n",
    "  \n",
    "# import random module\n",
    "import random\n",
    "  \n",
    "# Generates a random number between\n",
    "# a given positive range\n",
    "r1 = random.randint(5, 15)\n",
    "print(\"Random number between 5 and 15 is % s\" % (r1))\n",
    "  \n",
    "# Generates a random number between\n",
    "# two given negative range\n",
    "r2 = random.randint(-10, -2)\n",
    "print(\"Random number between -10 and -2 is % d\" % (r2))"
   ]
  },
  {
   "cell_type": "markdown",
   "metadata": {},
   "source": [
    "# The \"random.shiffle()\" Elements Randomly"
   ]
  },
  {
   "cell_type": "code",
   "execution_count": 40,
   "metadata": {
    "scrolled": true
   },
   "outputs": [
    {
     "ename": "AttributeError",
     "evalue": "module 'random' has no attribute 'shiffle'",
     "output_type": "error",
     "traceback": [
      "\u001b[1;31m---------------------------------------------------------------------------\u001b[0m",
      "\u001b[1;31mAttributeError\u001b[0m                            Traceback (most recent call last)",
      "\u001b[1;32m<ipython-input-40-421aa29a9b3d>\u001b[0m in \u001b[0;36m<module>\u001b[1;34m\u001b[0m\n\u001b[0;32m      2\u001b[0m \u001b[1;33m\u001b[0m\u001b[0m\n\u001b[0;32m      3\u001b[0m \u001b[0mr1\u001b[0m \u001b[1;33m=\u001b[0m \u001b[1;33m[\u001b[0m\u001b[1;36m13\u001b[0m\u001b[1;33m,\u001b[0m\u001b[1;36m32\u001b[0m\u001b[1;33m,\u001b[0m\u001b[1;36m321\u001b[0m\u001b[1;33m,\u001b[0m\u001b[1;36m11\u001b[0m\u001b[1;33m,\u001b[0m\u001b[1;36m33\u001b[0m\u001b[1;33m,\u001b[0m\u001b[1;36m3\u001b[0m\u001b[1;33m]\u001b[0m\u001b[1;33m\u001b[0m\u001b[1;33m\u001b[0m\u001b[0m\n\u001b[1;32m----> 4\u001b[1;33m \u001b[0mprint\u001b[0m\u001b[1;33m(\u001b[0m\u001b[0mrandom\u001b[0m\u001b[1;33m.\u001b[0m\u001b[0mshiffle\u001b[0m\u001b[1;33m(\u001b[0m\u001b[0mr1\u001b[0m\u001b[1;33m)\u001b[0m\u001b[1;33m)\u001b[0m\u001b[1;33m\u001b[0m\u001b[1;33m\u001b[0m\u001b[0m\n\u001b[0m",
      "\u001b[1;31mAttributeError\u001b[0m: module 'random' has no attribute 'shiffle'"
     ]
    }
   ],
   "source": [
    "import random\n",
    "\n",
    "r1 = [13,32,321,11,33,3]\n",
    "print(random.shiffle(r1))"
   ]
  },
  {
   "cell_type": "code",
   "execution_count": 44,
   "metadata": {},
   "outputs": [
    {
     "data": {
      "text/plain": [
       "43"
      ]
     },
     "execution_count": 44,
     "metadata": {},
     "output_type": "execute_result"
    }
   ],
   "source": [
    "# Select Random Elements\n",
    "\n",
    "import random\n",
    "random.choice('computer')\n",
    "          \n",
    "\n",
    "random.choice([12,23,45,67,65,43])    \n",
    "                                    # ei dui vabei data input deya jay..\n",
    "random.choice((12,23,45,67,65,43))\n"
   ]
  },
  {
   "cell_type": "code",
   "execution_count": 46,
   "metadata": {},
   "outputs": [
    {
     "name": "stdout",
     "output_type": "stream",
     "text": [
      "[1, 7, 5, 4, 9, 2, 5, 9, 5, 3]\n"
     ]
    }
   ],
   "source": [
    "# Genaret Random number.\n",
    "\n",
    "import random\n",
    "\n",
    "li = []\n",
    "for i in range(10):\n",
    "    li.append(random.randint(1,9))\n",
    "print(li)"
   ]
  },
  {
   "cell_type": "code",
   "execution_count": 106,
   "metadata": {},
   "outputs": [
    {
     "name": "stdout",
     "output_type": "stream",
     "text": [
      "[4, 3, 2, 5, 1]\n"
     ]
    }
   ],
   "source": [
    "# Shuffle Elements Randomly\n",
    "\n",
    "numbers = [1, 2, 3, 4, 5]\n",
    "random.shuffle(numbers)\n",
    "\n",
    "print(numbers)"
   ]
  },
  {
   "cell_type": "markdown",
   "metadata": {},
   "source": [
    "# Show screen resolution "
   ]
  },
  {
   "cell_type": "code",
   "execution_count": 8,
   "metadata": {},
   "outputs": [
    {
     "name": "stdout",
     "output_type": "stream",
     "text": [
      "1366 768\n"
     ]
    }
   ],
   "source": [
    "#Show Screen Resolution...\n",
    "\n",
    "from win32api import GetSystemMetrics\n",
    "\n",
    "\n",
    "width = GetSystemMetrics(0)\n",
    "height = GetSystemMetrics(1)\n",
    "\n",
    "print(width, height)\n",
    "\n",
    "\n"
   ]
  },
  {
   "cell_type": "markdown",
   "metadata": {},
   "source": [
    "# Show a pictur"
   ]
  },
  {
   "cell_type": "code",
   "execution_count": 38,
   "metadata": {
    "collapsed": true
   },
   "outputs": [
    {
     "ename": "ModuleNotFoundError",
     "evalue": "No module named 'cv2'",
     "output_type": "error",
     "traceback": [
      "\u001b[1;31m------------------------------------------------------------\u001b[0m",
      "\u001b[1;31mModuleNotFoundError\u001b[0m        Traceback (most recent call last)",
      "\u001b[1;32m<ipython-input-38-89fda51e1c42>\u001b[0m in \u001b[0;36m<module>\u001b[1;34m\u001b[0m\n\u001b[0;32m      1\u001b[0m \u001b[1;31m#This program ran by Pycharm.\u001b[0m\u001b[1;33m\u001b[0m\u001b[1;33m\u001b[0m\u001b[1;33m\u001b[0m\u001b[0m\n\u001b[0;32m      2\u001b[0m \u001b[1;33m\u001b[0m\u001b[0m\n\u001b[1;32m----> 3\u001b[1;33m \u001b[1;32mimport\u001b[0m \u001b[0mcv2\u001b[0m\u001b[1;33m\u001b[0m\u001b[1;33m\u001b[0m\u001b[0m\n\u001b[0m\u001b[0;32m      4\u001b[0m \u001b[1;33m\u001b[0m\u001b[0m\n\u001b[0;32m      5\u001b[0m \u001b[0mpath\u001b[0m \u001b[1;33m=\u001b[0m \u001b[1;34mr'C:\\Users\\rokon\\Desktop\\roko.png'\u001b[0m\u001b[1;33m\u001b[0m\u001b[1;33m\u001b[0m\u001b[0m\n",
      "\u001b[1;31mModuleNotFoundError\u001b[0m: No module named 'cv2'"
     ]
    }
   ],
   "source": [
    "#This program ran by Pycharm.\n",
    "\n",
    "import cv2\n",
    "\n",
    "path = r'C:\\Users\\rokon\\Desktop\\roko.png'\n",
    "\n",
    "\n",
    "img = cv2.imread(path,0)\n",
    "cv2.imshow('My_pictur', img)\n",
    "cv2.waitKey(0)\n",
    "cv2.destroyAllWindows()\n",
    "cv2.getWindowImageRect('ROkon')\n",
    "# cv2.imwrite('new.png',img)"
   ]
  },
  {
   "cell_type": "code",
   "execution_count": 40,
   "metadata": {},
   "outputs": [
    {
     "name": "stdout",
     "output_type": "stream",
     "text": [
      "Cancelling timer\n",
      "\n",
      "Exit\n",
      "\n"
     ]
    }
   ],
   "source": [
    "import threading\n",
    "  \n",
    "def gfg():\n",
    "    print(\"GeeksforGeeks\\n\")\n",
    "  \n",
    "timer = threading.Timer(10, gfg)\n",
    "timer.start()\n",
    "print(\"Cancelling timer\\n\")\n",
    "timer.cancel()\n",
    "print(\"Exit\\n\")"
   ]
  },
  {
   "cell_type": "markdown",
   "metadata": {},
   "source": [
    "# Frequency\n",
    ">dict, defaultdict, Counter"
   ]
  },
  {
   "cell_type": "code",
   "execution_count": 120,
   "metadata": {},
   "outputs": [
    {
     "name": "stdout",
     "output_type": "stream",
     "text": [
      "{7: 2, 3: 2, 9: 3, 8: 4, 2: 2, 6: 3, 5: 2, 1: 2}\n"
     ]
    }
   ],
   "source": [
    "import random\n",
    "\n",
    "def frequency_counter(li):\n",
    "    freq_dt = dict()\n",
    "    for item in li:\n",
    "        if item in freq_dt:\n",
    "            freq_dt[item] += 1\n",
    "        else:\n",
    "            freq_dt[item] = 1\n",
    "    print(freq_dt)\n",
    "\n",
    "if __name__ == \"__main__\":\n",
    "    li = [7, 3, 9, 9, 8, 2, 7, 8, 6, 3, 8, 5, 8, 5, 6, 6, 2, 9, 1, 1]\n",
    "    frequency_counter(li)\n"
   ]
  },
  {
   "cell_type": "code",
   "execution_count": 3,
   "metadata": {},
   "outputs": [
    {
     "data": {
      "text/plain": [
       "'C:\\\\Users\\\\rokon'"
      ]
     },
     "execution_count": 3,
     "metadata": {},
     "output_type": "execute_result"
    }
   ],
   "source": [
    "import os\n",
    "os.getcwd()"
   ]
  },
  {
   "cell_type": "code",
   "execution_count": 4,
   "metadata": {},
   "outputs": [
    {
     "data": {
      "text/plain": [
       "'C:\\\\Users\\\\rokon'"
      ]
     },
     "execution_count": 4,
     "metadata": {},
     "output_type": "execute_result"
    }
   ],
   "source": [
    "os.getcwd()"
   ]
  },
  {
   "cell_type": "code",
   "execution_count": 124,
   "metadata": {},
   "outputs": [],
   "source": [
    "os.mkdir('C:\\\\Users\\\\rokon\\\\new')"
   ]
  },
  {
   "cell_type": "code",
   "execution_count": 125,
   "metadata": {},
   "outputs": [
    {
     "data": {
      "text/plain": [
       "'C:\\\\Users\\\\rokon'"
      ]
     },
     "execution_count": 125,
     "metadata": {},
     "output_type": "execute_result"
    }
   ],
   "source": [
    "os.getcwd()"
   ]
  }
 ],
 "metadata": {
  "kernelspec": {
   "display_name": "Python 3",
   "language": "python",
   "name": "python3"
  },
  "language_info": {
   "codemirror_mode": {
    "name": "ipython",
    "version": 3
   },
   "file_extension": ".py",
   "mimetype": "text/x-python",
   "name": "python",
   "nbconvert_exporter": "python",
   "pygments_lexer": "ipython3",
   "version": "3.8.5"
  }
 },
 "nbformat": 4,
 "nbformat_minor": 4
}
