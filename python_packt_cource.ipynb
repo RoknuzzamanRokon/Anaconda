{
 "cells": [
  {
   "cell_type": "markdown",
   "metadata": {
    "slideshow": {
     "slide_type": "-"
    }
   },
   "source": [
    "# This is My first time using jupyter\n",
    ">26-04-2021\n",
    "\n",
    ">12:10am\n"
   ]
  },
  {
   "cell_type": "markdown",
   "metadata": {},
   "source": [
    "### Type Funtion"
   ]
  },
  {
   "cell_type": "code",
   "execution_count": 47,
   "metadata": {},
   "outputs": [
    {
     "name": "stdout",
     "output_type": "stream",
     "text": [
      "hello world\n"
     ]
    }
   ],
   "source": [
    "def hello():\n",
    "    print(\"hello world\")\n",
    "hello()"
   ]
  },
  {
   "cell_type": "code",
   "execution_count": 59,
   "metadata": {},
   "outputs": [
    {
     "name": "stdout",
     "output_type": "stream",
     "text": [
      "12\n",
      "(21, 32, 23, 44, 'gydf')\n",
      "{'aa': 2, 'bb': 3, 'cc': 'name'}\n"
     ]
    }
   ],
   "source": [
    "def all_argument(a, *b, **c):\n",
    "    print(a)\n",
    "    print(b)\n",
    "    print(c)\n",
    "    \n",
    "all_argument(12, 21, 32, 23, 44, \"gydf\", aa=2, bb=3, cc=\"name\")"
   ]
  },
  {
   "cell_type": "code",
   "execution_count": 18,
   "metadata": {},
   "outputs": [
    {
     "name": "stdout",
     "output_type": "stream",
     "text": [
      "114\n"
     ]
    }
   ],
   "source": [
    "#onek gula pera miter 1sathe pathano jay ei vabe.\n",
    "\n",
    "def total(*all):\n",
    "    sum = 0\n",
    "    for x in all:\n",
    "        sum += x\n",
    "    return sum\n",
    "print(total(19, 34, 5, 56))"
   ]
  },
  {
   "cell_type": "code",
   "execution_count": 22,
   "metadata": {},
   "outputs": [
    {
     "name": "stdout",
     "output_type": "stream",
     "text": [
      "{'a': 1, 'b': 2, 'c': 3}\n"
     ]
    }
   ],
   "source": [
    "def num(**argu):\n",
    "    print(argu)\n",
    "    \n",
    "num(a=1, b=2, c=3)"
   ]
  },
  {
   "cell_type": "code",
   "execution_count": 31,
   "metadata": {},
   "outputs": [
    {
     "name": "stdout",
     "output_type": "stream",
     "text": [
      "a {'a': 1, 'b': 2, 'c': 3}\n",
      "b {'a': 1, 'b': 2, 'c': 3}\n",
      "c {'a': 1, 'b': 2, 'c': 3}\n"
     ]
    }
   ],
   "source": [
    "def num(**argu):\n",
    "    for v in argu:\n",
    "        print(v,argu)\n",
    "    \n",
    "num(a=1, b=2, c=3)"
   ]
  },
  {
   "cell_type": "code",
   "execution_count": 36,
   "metadata": {},
   "outputs": [
    {
     "name": "stdout",
     "output_type": "stream",
     "text": [
      "a : 1\n",
      "b : 2\n",
      "c : 3\n"
     ]
    }
   ],
   "source": [
    "def num(**argu):\n",
    "    for v in argu:\n",
    "        print(\"{0} : {1}\".format(v, argu[v]))\n",
    "    \n",
    "num(a=1, b=2, c=3)"
   ]
  },
  {
   "cell_type": "code",
   "execution_count": 28,
   "metadata": {},
   "outputs": [
    {
     "name": "stdout",
     "output_type": "stream",
     "text": [
      "16\n"
     ]
    },
    {
     "data": {
      "text/plain": [
       "16"
      ]
     },
     "execution_count": 28,
     "metadata": {},
     "output_type": "execute_result"
    }
   ],
   "source": [
    "\n",
    "def sq(func, x):\n",
    "    y = x**2\n",
    "    return func(y)\n",
    "def f(x):\n",
    "    return x**2\n",
    "\n",
    "cale = sq(f,2)\n",
    "print(cale)\n",
    "\n",
    "sq(f,2)"
   ]
  },
  {
   "cell_type": "code",
   "execution_count": 95,
   "metadata": {},
   "outputs": [
    {
     "ename": "NameError",
     "evalue": "name 'world' is not defined",
     "output_type": "error",
     "traceback": [
      "\u001b[1;31m---------------------------------------------------------------------------\u001b[0m",
      "\u001b[1;31mNameError\u001b[0m                                 Traceback (most recent call last)",
      "\u001b[1;32m<ipython-input-95-b79d9fe6cf9f>\u001b[0m in \u001b[0;36m<module>\u001b[1;34m\u001b[0m\n\u001b[0;32m      5\u001b[0m     \u001b[1;32mreturn\u001b[0m \u001b[0mz\u001b[0m\u001b[1;33m(\u001b[0m\u001b[0mworld\u001b[0m\u001b[1;33m)\u001b[0m\u001b[1;33m\u001b[0m\u001b[1;33m\u001b[0m\u001b[0m\n\u001b[0;32m      6\u001b[0m \u001b[1;33m\u001b[0m\u001b[0m\n\u001b[1;32m----> 7\u001b[1;33m \u001b[0mnum2\u001b[0m\u001b[1;33m(\u001b[0m\u001b[1;34m\"hello\"\u001b[0m\u001b[1;33m,\u001b[0m\u001b[0mnum2\u001b[0m\u001b[1;33m)\u001b[0m\u001b[1;33m\u001b[0m\u001b[1;33m\u001b[0m\u001b[0m\n\u001b[0m\u001b[0;32m      8\u001b[0m \u001b[1;33m\u001b[0m\u001b[0m\n",
      "\u001b[1;32m<ipython-input-95-b79d9fe6cf9f>\u001b[0m in \u001b[0;36mnum2\u001b[1;34m(y, z)\u001b[0m\n\u001b[0;32m      3\u001b[0m \u001b[1;33m\u001b[0m\u001b[0m\n\u001b[0;32m      4\u001b[0m \u001b[1;32mdef\u001b[0m \u001b[0mnum2\u001b[0m\u001b[1;33m(\u001b[0m\u001b[0my\u001b[0m\u001b[1;33m,\u001b[0m \u001b[0mz\u001b[0m\u001b[1;33m)\u001b[0m\u001b[1;33m:\u001b[0m\u001b[1;33m\u001b[0m\u001b[1;33m\u001b[0m\u001b[0m\n\u001b[1;32m----> 5\u001b[1;33m     \u001b[1;32mreturn\u001b[0m \u001b[0mz\u001b[0m\u001b[1;33m(\u001b[0m\u001b[0mworld\u001b[0m\u001b[1;33m)\u001b[0m\u001b[1;33m\u001b[0m\u001b[1;33m\u001b[0m\u001b[0m\n\u001b[0m\u001b[0;32m      6\u001b[0m \u001b[1;33m\u001b[0m\u001b[0m\n\u001b[0;32m      7\u001b[0m \u001b[0mnum2\u001b[0m\u001b[1;33m(\u001b[0m\u001b[1;34m\"hello\"\u001b[0m\u001b[1;33m,\u001b[0m\u001b[0mnum2\u001b[0m\u001b[1;33m)\u001b[0m\u001b[1;33m\u001b[0m\u001b[1;33m\u001b[0m\u001b[0m\n",
      "\u001b[1;31mNameError\u001b[0m: name 'world' is not defined"
     ]
    }
   ],
   "source": [
    "def num1(*x):\n",
    "    return \"!!!\"\n",
    "\n",
    "def num2(y, z):\n",
    "    return \n",
    "    \n",
    "num2(\"hello\",num2)\n",
    "\n"
   ]
  },
  {
   "cell_type": "markdown",
   "metadata": {},
   "source": [
    "# There are some function example:\n",
    "\n",
    "### 1. input()                  11. all()\n",
    "### 2. print()                   12. abs()\n",
    "### 3. int()                       13. bool()\n",
    "### 4. float()\n",
    "### 5. len()\n",
    "### 6. round()\n",
    "### 7. type()\n",
    "### 8. str()\n",
    "### 9. max()\n",
    "### 10. min()"
   ]
  },
  {
   "cell_type": "markdown",
   "metadata": {},
   "source": [
    "# print() Function\n",
    "\n",
    "The print() function is used to display information to the user, or to the developer. \n",
    "It's one of Python's most widely used built-in functions."
   ]
  },
  {
   "cell_type": "code",
   "execution_count": null,
   "metadata": {},
   "outputs": [],
   "source": [
    "print(\"hello world\")"
   ]
  },
  {
   "cell_type": "markdown",
   "metadata": {},
   "source": [
    "# all()\n",
    "\n",
    "This is a function that takes a sequence as an input and checks the elements. If any of the elements is empty/ zero/ False, then it gives the output as False. Or else, it gives True. For example,"
   ]
  },
  {
   "cell_type": "code",
   "execution_count": 55,
   "metadata": {},
   "outputs": [
    {
     "name": "stdout",
     "output_type": "stream",
     "text": [
      "True \n",
      " False\n"
     ]
    }
   ],
   "source": [
    "y = all([1, 2, -2, 4.4, -4.2, 'd'])\n",
    "\n",
    "y\n",
    "\n",
    "z = all([1, 2, -2, 4.4, -4.2, 'd', False])\n",
    "z\n",
    "\n",
    "print(y,'\\n',z)\n",
    "\n",
    "      "
   ]
  },
  {
   "cell_type": "markdown",
   "metadata": {},
   "source": [
    "# class"
   ]
  },
  {
   "cell_type": "code",
   "execution_count": 66,
   "metadata": {},
   "outputs": [
    {
     "name": "stdout",
     "output_type": "stream",
     "text": [
      "Ron\n",
      "mass\n"
     ]
    }
   ],
   "source": [
    "class student:\n",
    "    pass\n",
    "su = student()\n",
    "su2 = student()\n",
    "\n",
    "su.name = \"Ron\"\n",
    "su.marks = 93\n",
    "\n",
    "su2.name = \"mass\"  \n",
    "su2.marks = 85\n",
    "\n",
    "print(su.name)\n",
    "print(su2.name)"
   ]
  },
  {
   "cell_type": "code",
   "execution_count": 89,
   "metadata": {},
   "outputs": [
    {
     "name": "stdout",
     "output_type": "stream",
     "text": [
      "This student is pass \n"
     ]
    }
   ],
   "source": [
    "class stu:\n",
    "    def check_pass_fail(self):\n",
    "        if self.marks > 40:\n",
    "            return print(\"This student is pass \")\n",
    "        else:\n",
    "            return False\n",
    "\n",
    "stu1 = stu()\n",
    "stu2 = stu()\n",
    "stu3 = stu()\n",
    "\n",
    "stu1.marks = 76\n",
    "\n",
    "stu2.name = 'Ron'\n",
    "stu2.marks = 56\n",
    "\n",
    "stu3.marks = 36\n",
    "\n",
    "check = stu2.check_pass_fail()\n"
   ]
  },
  {
   "cell_type": "markdown",
   "metadata": {},
   "source": [
    "# This is input() funtion."
   ]
  },
  {
   "cell_type": "code",
   "execution_count": null,
   "metadata": {},
   "outputs": [],
   "source": [
    "first = input(\"What is your name? \")\n",
    "print(f\"My name is {first}\\nwelcome to jupyter {first}\")"
   ]
  },
  {
   "cell_type": "markdown",
   "metadata": {},
   "source": [
    "The input() function to obtain information from the user:"
   ]
  },
  {
   "cell_type": "code",
   "execution_count": 10,
   "metadata": {},
   "outputs": [
    {
     "name": "stdout",
     "output_type": "stream",
     "text": [
      "What is your name? My name is rokon\n",
      "wellcome to My name is rokon\n"
     ]
    }
   ],
   "source": [
    "name = input(\"What is your name? \")\n",
    "\n",
    "print(\"wellcome to\",name)"
   ]
  },
  {
   "cell_type": "code",
   "execution_count": 56,
   "metadata": {},
   "outputs": [
    {
     "name": "stdout",
     "output_type": "stream",
     "text": [
      "<class 'int'> <class 'float'> <class 'str'>\n"
     ]
    }
   ],
   "source": [
    "# type Funtion example.\n",
    "\n",
    "\n",
    "a = 1\n",
    "b = 1.1\n",
    "c = \"Ron\"\n",
    "\n",
    "print(type(a), type(b), type(c))"
   ]
  },
  {
   "cell_type": "code",
   "execution_count": null,
   "metadata": {},
   "outputs": [],
   "source": []
  },
  {
   "cell_type": "markdown",
   "metadata": {},
   "source": [
    "# Math"
   ]
  },
  {
   "cell_type": "code",
   "execution_count": null,
   "metadata": {},
   "outputs": [],
   "source": [
    "a = 4;\n",
    "b = 3;\n",
    "c = a + b;\n",
    "print(c)"
   ]
  },
  {
   "cell_type": "markdown",
   "metadata": {},
   "source": [
    "Python is an incredibly powerful calculator. By leveraging the math library, numpy, and scipy, Python typically outperforms pre-programmed calculators. In later chapters, you will learn how to use the numpy and scipy libraries. For now, we'll introduce the calculator tools that most people use daily.\n",
    "\n",
    "Addition, subtraction, multiplication, division, and exponentiation are core operations. In computer science, the modulus operator and integer division are equally essential as well.\n",
    "\n",
    "The modulus operator is the remainder in mathematical division. Modular arithmetic is also called clock arithmetic. For instance, in mod5 which is a modulus of 5, we count 0,1,2,3,4,0,1,2,3,4,0,1... This goes in a circle, like the hands on a clock\n",
    "\n"
   ]
  },
  {
   "cell_type": "markdown",
   "metadata": {},
   "source": [
    "># Basic MathOperations"
   ]
  },
  {
   "cell_type": "code",
   "execution_count": 3,
   "metadata": {},
   "outputs": [
    {
     "name": "stdout",
     "output_type": "stream",
     "text": [
      "a=7,\n",
      "b=3,\n",
      "c=50.5,\n",
      "d=10,\n",
      "e=1,\n",
      "f=50,\n",
      "g=25\n"
     ]
    }
   ],
   "source": [
    "a = 5+2\n",
    "b = 5-2\n",
    "c = 101/2\n",
    "d = 5*2 \n",
    "e = 101%2\n",
    "f = 101//2\n",
    "g = 5**2\n",
    "print(f\"a={a},\\nb={b},\\nc={c},\\nd={d},\\ne={e},\\nf={f},\\ng={g}\")"
   ]
  },
  {
   "cell_type": "code",
   "execution_count": 5,
   "metadata": {},
   "outputs": [
    {
     "data": {
      "text/plain": [
       "-1"
      ]
     },
     "execution_count": 5,
     "metadata": {},
     "output_type": "execute_result"
    }
   ],
   "source": [
    "5 + 2*-3"
   ]
  },
  {
   "cell_type": "code",
   "execution_count": 6,
   "metadata": {},
   "outputs": [
    {
     "data": {
      "text/plain": [
       "-21"
      ]
     },
     "execution_count": 6,
     "metadata": {},
     "output_type": "execute_result"
    }
   ],
   "source": [
    "(5 + 2) *-3"
   ]
  },
  {
   "cell_type": "markdown",
   "metadata": {},
   "source": [
    "# Complex Number Types"
   ]
  },
  {
   "cell_type": "code",
   "execution_count": 7,
   "metadata": {},
   "outputs": [
    {
     "data": {
      "text/plain": [
       "(2+3j)"
      ]
     },
     "execution_count": 7,
     "metadata": {},
     "output_type": "execute_result"
    }
   ],
   "source": [
    "2 + 3j"
   ]
  },
  {
   "cell_type": "code",
   "execution_count": 8,
   "metadata": {},
   "outputs": [
    {
     "data": {
      "text/plain": [
       "(-0.5+0.5j)"
      ]
     },
     "execution_count": 8,
     "metadata": {},
     "output_type": "execute_result"
    }
   ],
   "source": [
    "(2 + 3j) / (1 - 5j)"
   ]
  },
  {
   "cell_type": "code",
   "execution_count": null,
   "metadata": {},
   "outputs": [],
   "source": [
    "(2 + 3) / (1 - 5)"
   ]
  },
  {
   "cell_type": "markdown",
   "metadata": {},
   "source": [
    "It's common in programming to add 1 to a variable; for instance, x = x + 1. The shorthand for this is to use += as in the following example:"
   ]
  },
  {
   "cell_type": "code",
   "execution_count": 16,
   "metadata": {},
   "outputs": [
    {
     "name": "stdout",
     "output_type": "stream",
     "text": [
      "4\n"
     ]
    }
   ],
   "source": [
    "x = 3\n",
    "x += 1\n",
    "print(x)"
   ]
  },
  {
   "cell_type": "code",
   "execution_count": null,
   "metadata": {},
   "outputs": [],
   "source": [
    "x = 14\n",
    "x += 1\n",
    "x /= 5\n",
    "x **=2\n",
    "\n",
    "print(x)"
   ]
  },
  {
   "cell_type": "code",
   "execution_count": 9,
   "metadata": {},
   "outputs": [
    {
     "name": "stdout",
     "output_type": "stream",
     "text": [
      "['False', 'None', 'True', 'and', 'as', 'assert', 'async', 'await', 'break', 'class', 'continue', 'def', 'del', 'elif', 'else', 'except', 'finally', 'for', 'from', 'global', 'if', 'import', 'in', 'is', 'lambda', 'nonlocal', 'not', 'or', 'pass', 'raise', 'return', 'try', 'while', 'with', 'yield']\n"
     ]
    }
   ],
   "source": [
    "# Exampe for keyword.all keyword is here..Just chake it in this's keyword.\n",
    "\n",
    "\n",
    "\n",
    "import keyword\n",
    "print(keyword.kwlist)"
   ]
  },
  {
   "cell_type": "markdown",
   "metadata": {},
   "source": [
    ">>> # This is Root Formula."
   ]
  },
  {
   "cell_type": "markdown",
   "metadata": {},
   "source": [
    "c = number**0.5"
   ]
  },
  {
   "cell_type": "code",
   "execution_count": null,
   "metadata": {},
   "outputs": [],
   "source": [
    "x = float(input(\"Height: \"))\n",
    "y = float(input(\"Bese: \"))\n",
    "hypotenuse = ((x**2) + (y**2))**0.5\n",
    "\n",
    "print(\"Hypotenuse = \",hypotenuse)"
   ]
  },
  {
   "cell_type": "code",
   "execution_count": null,
   "metadata": {},
   "outputs": [],
   "source": [
    "\"\"\"\n",
    "This document determines the pythagorean Distance \n",
    "between three given points\n",
    "\"\"\""
   ]
  },
  {
   "cell_type": "code",
   "execution_count": null,
   "metadata": {},
   "outputs": [],
   "source": [
    "#Initilize variables\n",
    "x, y, z = 2, 4, 2\n",
    "\n",
    "# Pythagorean theorem in 3 dimensions\n",
    "w_squared = x**2 + y**2 + z**2\n",
    "\n",
    "#The square root gives the distance\n",
    "w = w_squared**0.5\n",
    "\n",
    "#show the distanc\n",
    "w"
   ]
  },
  {
   "cell_type": "code",
   "execution_count": 74,
   "metadata": {},
   "outputs": [
    {
     "name": "stdout",
     "output_type": "stream",
     "text": [
      "9.0\n"
     ]
    }
   ],
   "source": [
    "#Example a math\n",
    "\n",
    "\"\"\"Assigning Values to variable\"\"\"\n",
    "\n",
    "\"\"\"\n",
    "    First, set 14 to the x variable.\n",
    "    Now, add 1 to x.\n",
    "    Finally, divide x by 5 and square it\n",
    "\"\"\"\n",
    "\n",
    "\n",
    "x = 14\n",
    "x = x + 1\n",
    "x = (x / 5)**2\n",
    "\n",
    "print(x)"
   ]
  },
  {
   "cell_type": "markdown",
   "metadata": {},
   "source": [
    "# Comment"
   ]
  },
  {
   "cell_type": "code",
   "execution_count": 75,
   "metadata": {},
   "outputs": [],
   "source": [
    "# ei ta holo sadaron 1ta comment.\n",
    "# Ei comment likte protibare \"#\" eiti dite hobe."
   ]
  },
  {
   "cell_type": "markdown",
   "metadata": {},
   "source": [
    "#                                  Doc_sting"
   ]
  },
  {
   "cell_type": "code",
   "execution_count": 73,
   "metadata": {},
   "outputs": [
    {
     "name": "stdout",
     "output_type": "stream",
     "text": [
      "\n",
      " This is the Doc_string example..ekhane kichu likte hobe.Doc string ta muloto \n",
      " name koron kora hoy string gulakae boro kore likha hoy bole.Doc file jemon hoy r ki.\n",
      "\n",
      "\n",
      "\n",
      "     This is the Doc_string example..\n",
      "     ekhane kichu likte hobe.Doc string ta muloto \n",
      "     name koron kora hoy string gulakae boro kore likha hoy bole.Doc file jemon hoy r ki.\n",
      "\n",
      "    \n"
     ]
    },
    {
     "data": {
      "text/plain": [
       "8"
      ]
     },
     "execution_count": 73,
     "metadata": {},
     "output_type": "execute_result"
    }
   ],
   "source": [
    "def valu(x, y):\n",
    "    \"\"\"\n",
    "     This is the Doc_string example..\n",
    "     ekhane kichu likte hobe.Doc string ta muloto \n",
    "     name koron kora hoy string gulakae boro kore likha hoy bole.Doc file jemon hoy r ki.\n",
    "\n",
    "    \"\"\"\n",
    "    z = x * y\n",
    "    \n",
    "    #Ei string ta output e show kortiche na...karon kono function e return function call korle r kono Argument kaj kore na.\n",
    "    #Jar karone Doc string show korche na.\n",
    "    \"\"\"\n",
    "     This is the Doc_string example..\n",
    "     \n",
    "     ekhane kichu likte hobe.Doc string ta muloto \n",
    "     name koron kora hoy string gulakae boro kore likha hoy bole.Doc file jemon hoy r ki.\n",
    "\n",
    "    \"\"\"\n",
    "    return z\n",
    "\n",
    "\n",
    "\"\"\"\n",
    " This is the Doc_string example..ekhane kichu likte hobe.Doc string ta muloto \n",
    " name koron kora hoy string gulakae boro kore likha hoy bole.Doc file jemon hoy r ki.\n",
    "\n",
    "\"\"\"\n",
    "print(__doc__)\n",
    "print(valu.__doc__)  # \"valu.__doc__\" function doc string attribiut.\n",
    "valu(2,4)"
   ]
  },
  {
   "cell_type": "markdown",
   "metadata": {},
   "source": [
    "# String: Concatenation, Methods, and input()"
   ]
  },
  {
   "cell_type": "markdown",
   "metadata": {},
   "source": [
    "You have learned how to express numbers, operators, and variables. \n",
    "What about words? \n",
    "In Python, anything that goes between 'single' or \"double\" quotes is considered a string. \n"
   ]
  },
  {
   "cell_type": "markdown",
   "metadata": {},
   "source": [
    "Examples include 'hello', \"hello\", 'HELLoo00', '12345', and 'fun_characters: !@ #$%^&*('."
   ]
  },
  {
   "cell_type": "markdown",
   "metadata": {},
   "source": [
    ".\n",
    "\n",
    "Examples 'string' in python.\n",
    "."
   ]
  },
  {
   "cell_type": "code",
   "execution_count": null,
   "metadata": {},
   "outputs": [],
   "source": [
    "# THis are valid string.\n",
    "\n",
    "kfc_Burger = 'Chicken Burger'\n",
    "kfc_offer = \"Mingle's Baket\"\n",
    "\n",
    "print(kfc_Burger)\n",
    "print(kfc_offer)"
   ]
  },
  {
   "cell_type": "code",
   "execution_count": null,
   "metadata": {},
   "outputs": [],
   "source": [
    "#This is just chake Escape Sequence.\n",
    "\n",
    "print(\"1\\v this is some \\t text here. new line\" + \"\\n \\a\"+ \"thsi is another text\")\n",
    "\n",
    "# \\t \\n are very importent."
   ]
  },
  {
   "cell_type": "code",
   "execution_count": null,
   "metadata": {},
   "outputs": [],
   "source": [
    "bookstore = 'Moe\\'s'\n",
    "print(bookstore)\n",
    "\n",
    "bookstore = \"Moe's\"\n",
    "print(bookstore)\n"
   ]
  },
  {
   "cell_type": "markdown",
   "metadata": {},
   "source": [
    "# String Mathods"
   ]
  },
  {
   "cell_type": "code",
   "execution_count": null,
   "metadata": {},
   "outputs": [],
   "source": [
    "name = \"rokoN\"\n",
    "a = name.capitalize()\n",
    "b = name.lower()\n",
    "c = name.upper()\n",
    "d = name.count('o')\n",
    "e = name * 3\n",
    "\n",
    "print(f\"{a} \\n{b}\\n{c}\\n{d}\\n{e}\")     #use function\n"
   ]
  },
  {
   "cell_type": "markdown",
   "metadata": {},
   "source": [
    "# The len() Function"
   ]
  },
  {
   "cell_type": "code",
   "execution_count": null,
   "metadata": {},
   "outputs": [],
   "source": [
    "name = \"Md: Roknuzzaman Rokon\"\n",
    "\n",
    "print(len(name))   # len() is is Function\n",
    "name.count('o')    # .count() is mathods"
   ]
  },
  {
   "cell_type": "markdown",
   "metadata": {},
   "source": [
    "# String Indexing and Slicing\n",
    "\n",
    "    Indexing and slicing are crucial(অত্যন্ত গুরুত্বপূর্ণ) parts of programming.In  \n",
    "    data analysis, indexing and slicing DataFrames is essential(অপরিহার্য ) to keep track \n",
    "    of rows and columns..."
   ]
  },
  {
   "cell_type": "markdown",
   "metadata": {},
   "source": [
    "    >>>>>>>>>>>> Indexing"
   ]
  },
  {
   "cell_type": "markdown",
   "metadata": {},
   "source": [
    "        The characters of Python strings exist in specific locations;\n",
    "        in other words, their order     counts. The index is a numerical \n",
    "        representation of where each character is located."
   ]
  },
  {
   "cell_type": "code",
   "execution_count": null,
   "metadata": {},
   "outputs": [],
   "source": [
    "team = \"KFC Adabor\"\n",
    "\n",
    "team[0]  #K\n",
    "team[1]  #F\n",
    "team[2]  #C\n",
    "\n",
    "print(team[1])"
   ]
  },
  {
   "cell_type": "code",
   "execution_count": null,
   "metadata": {},
   "outputs": [],
   "source": [
    "team = \"KFC Adabor\"  #adding a negative value\n",
    "\n",
    "team[-0]  \n",
    "team[-1]  \n",
    "team[-2] \n",
    "\n",
    "print(team[-2])\n",
    "print(team[7])\n",
    "print(team[4])"
   ]
  },
  {
   "cell_type": "markdown",
   "metadata": {},
   "source": [
    "    Note: \n",
    "Negative numbers start at the end of the string.\n",
    "(It makes sense to start with -1 since -0 is the same as 0.)"
   ]
  },
  {
   "cell_type": "markdown",
   "metadata": {},
   "source": [
    "    >>>>>>>>>>># Slicing"
   ]
  },
  {
   "cell_type": "markdown",
   "metadata": {},
   "source": [
    "    A slice is a subset of a string or other element. A slice could be \n",
    "    the whole element or one character, but it's more commonly a group \n",
    "    of adjoining characters."
   ]
  },
  {
   "cell_type": "markdown",
   "metadata": {},
   "source": [
    "Exmple"
   ]
  },
  {
   "cell_type": "code",
   "execution_count": null,
   "metadata": {},
   "outputs": [],
   "source": [
    "team = \"KFC Adabor\"\n",
    "\n",
    "team[4 : 8]\n"
   ]
  },
  {
   "cell_type": "code",
   "execution_count": null,
   "metadata": {},
   "outputs": [],
   "source": [
    "team = \" KFC Adabor\"\n",
    "\n",
    "team[1 : 4]"
   ]
  },
  {
   "cell_type": "code",
   "execution_count": null,
   "metadata": {},
   "outputs": [],
   "source": [
    "team = \"KFC Adabor\"\n",
    "\n",
    "team[1 : 6]"
   ]
  },
  {
   "cell_type": "code",
   "execution_count": null,
   "metadata": {},
   "outputs": [],
   "source": [
    "team = \"KFC Adabor\"\n",
    "\n",
    "team[0 : 5]"
   ]
  },
  {
   "cell_type": "code",
   "execution_count": null,
   "metadata": {},
   "outputs": [],
   "source": [
    "team = \"KFC Adabor\"\n",
    "print(team[ :5])\n",
    "\n",
    "team = \"KFC_Adabor\"\n",
    "print(team[ :5])"
   ]
  },
  {
   "cell_type": "code",
   "execution_count": null,
   "metadata": {},
   "outputs": [],
   "source": [
    "team = \"KFC Adabor\" #Negative value\n",
    "\n",
    "x = team[-3 : ]\n",
    "print(x)\n"
   ]
  },
  {
   "cell_type": "markdown",
   "metadata": {},
   "source": [
    "# Methods\n"
   ]
  },
  {
   "cell_type": "code",
   "execution_count": 45,
   "metadata": {},
   "outputs": [
    {
     "name": "stdout",
     "output_type": "stream",
     "text": [
      "My name is Roknuzzaman Rokn\n"
     ]
    }
   ],
   "source": [
    "# Useing format methods\n",
    "\n",
    "print(\"My name is Roknuzzaman {}\".format(\"Rokn\"))\n"
   ]
  },
  {
   "cell_type": "code",
   "execution_count": 46,
   "metadata": {},
   "outputs": [
    {
     "name": "stdout",
     "output_type": "stream",
     "text": [
      "Month no 1 is Feb\n",
      "Month no 2 is Jan\n",
      "Month no 3 is Mar\n"
     ]
    }
   ],
   "source": [
    "# Multiple format()\n",
    "\n",
    "i=1\n",
    "months={'Jan','Feb','Mar'}\n",
    "\n",
    "for m in months:\n",
    "   print(\"Month no {} is {}\".format(i,m))\n",
    "   i=i+1"
   ]
  },
  {
   "cell_type": "code",
   "execution_count": 37,
   "metadata": {},
   "outputs": [
    {
     "data": {
      "text/plain": [
       "10"
      ]
     },
     "execution_count": 37,
     "metadata": {},
     "output_type": "execute_result"
    }
   ],
   "source": [
    "# len() methods\n",
    "\n",
    "team = \"KFC_Adabor\"\n",
    "len(team)"
   ]
  },
  {
   "cell_type": "markdown",
   "metadata": {},
   "source": [
    "# Booleans and Conditionals\n",
    "\n",
    "    Booleans, named after George Boole, take the values of True or False. Although the idea behind\n",
    "    Booleans is rather simple, they make programming immensely more powerful."
   ]
  },
  {
   "cell_type": "markdown",
   "metadata": {},
   "source": [
    "    Programming based upon multiple cases is referred to as branching. Each branch is represented by a\n",
    "    different conditional. Conditionals often start with an 'if' clause, followed by 'else' clauses. \n",
    "    The choice of a branch is determined by Booleans, depending on whether the given conditions are True or False.\n",
    "    "
   ]
  },
  {
   "cell_type": "markdown",
   "metadata": {},
   "source": [
    "# Booleans"
   ]
  },
  {
   "cell_type": "markdown",
   "metadata": {},
   "source": [
    "True,\n",
    "False"
   ]
  },
  {
   "cell_type": "markdown",
   "metadata": {},
   "source": [
    "Note: Boolean values must be capitalized in Python."
   ]
  },
  {
   "cell_type": "code",
   "execution_count": 1,
   "metadata": {},
   "outputs": [
    {
     "name": "stdout",
     "output_type": "stream",
     "text": [
      "<class 'bool'>\n",
      "<class 'bool'>\n"
     ]
    }
   ],
   "source": [
    "new_customer = True\n",
    "new_customer2= False\n",
    "\n",
    "print(type(new_customer))\n",
    "print(type(new_customer2))"
   ]
  },
  {
   "cell_type": "markdown",
   "metadata": {},
   "source": [
    "# List "
   ]
  },
  {
   "cell_type": "markdown",
   "metadata": {},
   "source": [
    "## Add an item to the list"
   ]
  },
  {
   "cell_type": "code",
   "execution_count": 2,
   "metadata": {},
   "outputs": [
    {
     "name": "stdout",
     "output_type": "stream",
     "text": [
      "['Ford', 'Volvo', 'BMW', 'Tesla', 'Audi']\n"
     ]
    }
   ],
   "source": [
    "#a list\n",
    "cars = ['Ford', 'Volvo', 'BMW', 'Tesla']\n",
    "\n",
    "#append item to list\n",
    "cars.append('Audi')\n",
    "\n",
    "print(cars)"
   ]
  },
  {
   "cell_type": "markdown",
   "metadata": {},
   "source": [
    "## Add multiple items to list"
   ]
  },
  {
   "cell_type": "code",
   "execution_count": 3,
   "metadata": {},
   "outputs": [
    {
     "name": "stdout",
     "output_type": "stream",
     "text": [
      "['Audi', 'Volvo']\n"
     ]
    }
   ],
   "source": [
    "#an empty list\n",
    "cars = []\n",
    "\n",
    "#append items to list\n",
    "cars.append('Audi')\n",
    "cars.append('Volvo')\n",
    "\n",
    "print(cars)"
   ]
  },
  {
   "cell_type": "markdown",
   "metadata": {},
   "source": [
    "# list slicing"
   ]
  },
  {
   "cell_type": "code",
   "execution_count": 1,
   "metadata": {},
   "outputs": [
    {
     "name": "stdout",
     "output_type": "stream",
     "text": [
      "[0, 1, 2, 3, 4, 5, 6, 7, 8, 9, 10, 11, 12]\n",
      " \n",
      " myList[4]:  4\n",
      "\n",
      " yList[-2]:  11\n",
      "\n",
      " myList[-2 : ]:  [11, 12]\n",
      "\n",
      " myList[ : -2 : ]:  [0, 1, 2, 3, 4, 5, 6, 7, 8, 9, 10]\n",
      "\n",
      " myList[ : -2]:  [0, 1, 2, 3, 4, 5, 6, 7, 8, 9, 10]\n",
      "\n",
      " myList[2 : 4]:  [2, 3]\n",
      "\n",
      " myList[-3 : -5]:  []\n",
      "\n",
      " myList[ : ]:  [0, 1, 2, 3, 4, 5, 6, 7, 8, 9, 10, 11, 12]\n",
      "\n",
      " myList[ : ]:  [12, 11, 10, 9, 8, 7, 6, 5, 4, 3, 2, 1, 0]\n"
     ]
    }
   ],
   "source": [
    "myList = [0,1,2,3,4,5,6,7,8,9,10,11,12]\n",
    "\n",
    "print(myList)\n",
    "print(\" \\n myList[4]: \", myList[4])\n",
    "\n",
    "print(\"\\n yList[-2]: \",myList[-2])\n",
    "\n",
    "print(\"\\n myList[-2 : ]: \",myList[-2 : ])\n",
    "\n",
    "print(\"\\n myList[ : -2 : ]: \",myList[ : -2 : ])\n",
    "\n",
    "print(\"\\n myList[ : -2]: \",myList[ : -2])\n",
    "\n",
    "print(\"\\n myList[2 : 4]: \",myList[2 : 4])\n",
    "\n",
    "print(\"\\n myList[-3 : -5]: \",myList[-3 : -5])\n",
    "\n",
    "print(\"\\n myList[ : ]: \",myList[ : ])\n",
    "\n",
    "print(\"\\n myList[ : ]: \",myList[ : : -1])\n",
    "\n"
   ]
  },
  {
   "cell_type": "code",
   "execution_count": null,
   "metadata": {},
   "outputs": [],
   "source": []
  },
  {
   "cell_type": "code",
   "execution_count": null,
   "metadata": {},
   "outputs": [],
   "source": []
  },
  {
   "cell_type": "code",
   "execution_count": null,
   "metadata": {},
   "outputs": [],
   "source": []
  },
  {
   "cell_type": "markdown",
   "metadata": {},
   "source": [
    "# Logical Operators\n",
    "and, or, not"
   ]
  },
  {
   "cell_type": "code",
   "execution_count": null,
   "metadata": {},
   "outputs": [],
   "source": [
    "#and Operators\n",
    "\n",
    "\n",
    "a = True\n",
    "b = True\n",
    "c = False\n",
    "d = False\n",
    "\n",
    "an_d1 = a and b\n",
    "an_d2 = a and c\n",
    "an_d3 = c and d\n",
    "\n",
    "print(an_d1, an_d2, an_d3)"
   ]
  },
  {
   "cell_type": "code",
   "execution_count": null,
   "metadata": {},
   "outputs": [],
   "source": [
    "#or Operators\n",
    "\n",
    "a = True\n",
    "b = True\n",
    "c = False\n",
    "d = False\n",
    "\n",
    "or1 = a or b\n",
    "or2 = a or c\n",
    "or3 = c or d\n",
    "\n",
    "print(or1, or2, or3)"
   ]
  },
  {
   "cell_type": "code",
   "execution_count": null,
   "metadata": {},
   "outputs": [],
   "source": [
    "#not operators\n",
    "\n",
    "a = True\n",
    "b = True\n",
    "c = False\n",
    "d = False\n",
    "\n",
    "not a\n",
    "not b\n",
    "not c"
   ]
  },
  {
   "cell_type": "markdown",
   "metadata": {},
   "source": [
    "# Comparison Operators"
   ]
  },
  {
   "cell_type": "markdown",
   "metadata": {},
   "source": [
    "1. <  Less than\n",
    "2. <= less then or equal to\n",
    "3. (>)  grater than\n",
    "4. (>=) grether than or equal to\n",
    "5. == equivalent to\n",
    "6. != not equivalent to "
   ]
  },
  {
   "cell_type": "code",
   "execution_count": null,
   "metadata": {},
   "outputs": [],
   "source": [
    "age = 26\n",
    "age < 29\n",
    "age<= 29\n",
    "age > 14\n",
    "age >=14\n",
    "age ==26\n",
    "age !=21"
   ]
  },
  {
   "cell_type": "markdown",
   "metadata": {},
   "source": [
    "    Comparison String"
   ]
  },
  {
   "cell_type": "code",
   "execution_count": null,
   "metadata": {},
   "outputs": [],
   "source": [
    "'a' < 'b'\n",
    "'kcf adabor' < 'kfc dhanmondi'"
   ]
  },
  {
   "cell_type": "markdown",
   "metadata": {},
   "source": [
    "# Conditionals\n",
    "\n",
    "Conditionals are used when we want to express code based upon a set of \n",
    "circumstances or values. Conditionals evaluate Boolean values or Boolean \n",
    "expressions, and they are usually preceded by 'if'\n",
    "\n",
    "if,\n",
    "else,\n",
    "elseif"
   ]
  },
  {
   "cell_type": "code",
   "execution_count": 12,
   "metadata": {},
   "outputs": [
    {
     "name": "stdout",
     "output_type": "stream",
     "text": [
      "How old are you?\n",
      " 25\n",
      "you are a voter\n"
     ]
    }
   ],
   "source": [
    "# The if else syntax\n",
    "\n",
    "age = int(input(\"How old are you?\\n \"))\n",
    "if age >= 18:\n",
    "    print('you are a voter')\n",
    "else:\n",
    "    print('you are\\'t a voter')"
   ]
  },
  {
   "cell_type": "markdown",
   "metadata": {},
   "source": [
    "# Indentaion \n",
    "\n",
    "Indentation is one of Python's singular features. Indentation is used everywhere in Python. Indentation can be liberating. One advantage is the number of keystrokes."
   ]
  },
  {
   "cell_type": "markdown",
   "metadata": {},
   "source": [
    "# Loops\n",
    "\n",
    "<>>>>>>>>>>>>>>>>><     while,for.\n",
    "\n",
    "Python distinguishes between two fundamental kinds of loops: while loops, and for loops.\n",
    "\n",
    "There are three key components to most loops:\n",
    "\n",
    "1. The start of the loop\n",
    "2. The end of the loop\n",
    "3. The increment between numbers in the loop"
   ]
  },
  {
   "cell_type": "markdown",
   "metadata": {},
   "source": [
    "# while loops"
   ]
  },
  {
   "cell_type": "code",
   "execution_count": null,
   "metadata": {},
   "outputs": [],
   "source": [
    "number = 1\n",
    "\n",
    "while number <= 10:\n",
    "    print(number)\n",
    "    number += 1"
   ]
  },
  {
   "cell_type": "code",
   "execution_count": null,
   "metadata": {},
   "outputs": [],
   "source": [
    "number = 5\n",
    "while number <= 10:\n",
    "    print(number)\n",
    "    number += 1\n"
   ]
  },
  {
   "cell_type": "code",
   "execution_count": 13,
   "metadata": {},
   "outputs": [
    {
     "name": "stdout",
     "output_type": "stream",
     "text": [
      "102 is the first number greater than 100 that is divisible by 17.\n"
     ]
    }
   ],
   "source": [
    "# Find first number greater than 100 and divisible by 17.\n",
    "\n",
    "x = 100\n",
    "while x <= 1000:\n",
    "  x += 1\n",
    "  if x % 17 == 0:\n",
    "    print(x, 'is the first number greater than 100 that is divisible by 17.')\n",
    "    break"
   ]
  },
  {
   "cell_type": "markdown",
   "metadata": {},
   "source": [
    "# for loops"
   ]
  },
  {
   "cell_type": "code",
   "execution_count": 8,
   "metadata": {},
   "outputs": [
    {
     "name": "stdout",
     "output_type": "stream",
     "text": [
      "R\n",
      "o\n",
      "k\n",
      "n\n",
      "u\n",
      "z\n",
      "z\n",
      "a\n",
      "m\n",
      "a\n",
      "n\n",
      " \n",
      "R\n",
      "o\n",
      "k\n",
      "o\n",
      "n\n"
     ]
    }
   ],
   "source": [
    "new_name = \"Roknuzzaman Rokon\"\n",
    "\n",
    "for x in new_name:\n",
    "    print(x)\n",
    "    "
   ]
  },
  {
   "cell_type": "code",
   "execution_count": 9,
   "metadata": {
    "scrolled": true
   },
   "outputs": [
    {
     "name": "stdout",
     "output_type": "stream",
     "text": [
      "1\n",
      "2\n",
      "3\n",
      "4\n",
      "5\n",
      "6\n",
      "7\n",
      "8\n",
      "9\n"
     ]
    }
   ],
   "source": [
    "for i in range(1,10,1):\n",
    "    print(i)"
   ]
  },
  {
   "cell_type": "code",
   "execution_count": 10,
   "metadata": {
    "scrolled": true
   },
   "outputs": [
    {
     "name": "stdout",
     "output_type": "stream",
     "text": [
      "10\n",
      "9\n",
      "8\n",
      "7\n",
      "6\n",
      "5\n",
      "4\n",
      "3\n",
      "2\n",
      "1\n"
     ]
    }
   ],
   "source": [
    "for i in range(10,0,-1):\n",
    "    print(i)"
   ]
  },
  {
   "cell_type": "code",
   "execution_count": 11,
   "metadata": {},
   "outputs": [
    {
     "name": "stdout",
     "output_type": "stream",
     "text": [
      "0\n",
      "1\n",
      "2\n",
      "3\n",
      "4\n",
      "5\n",
      "6\n",
      "7\n",
      "8\n",
      "9\n"
     ]
    }
   ],
   "source": [
    "for i in range(10):\n",
    "    print(i)"
   ]
  },
  {
   "cell_type": "code",
   "execution_count": 12,
   "metadata": {},
   "outputs": [
    {
     "name": "stdout",
     "output_type": "stream",
     "text": [
      "1\n",
      "3\n",
      "5\n",
      "7\n",
      "9\n"
     ]
    }
   ],
   "source": [
    "for i in range(1,10,2):\n",
    "    print(i)"
   ]
  },
  {
   "cell_type": "code",
   "execution_count": 13,
   "metadata": {},
   "outputs": [
    {
     "name": "stdout",
     "output_type": "stream",
     "text": [
      "-10\n",
      "-9\n",
      "-8\n",
      "-7\n",
      "-6\n",
      "-5\n",
      "-4\n",
      "-3\n",
      "-2\n",
      "-1\n",
      "0\n"
     ]
    }
   ],
   "source": [
    "for i in range(-10,1):\n",
    "    print(i)"
   ]
  },
  {
   "cell_type": "code",
   "execution_count": 14,
   "metadata": {},
   "outputs": [
    {
     "name": "stdout",
     "output_type": "stream",
     "text": [
      "x\n",
      "\n",
      "r\n",
      "o\n",
      "k\n",
      "o\n",
      "n\n",
      "\n",
      "\n",
      "x\n",
      "\n",
      "r\n",
      "o\n",
      "k\n",
      "o\n",
      "n\n",
      "\n",
      "\n"
     ]
    }
   ],
   "source": [
    "name = \"rokon\"\n",
    "for i in range(2):\n",
    "    print(\"x\"\"\\n\")\n",
    "    for i in name:\n",
    "        print(i)\n",
    "    print(\"\\n\")\n",
    "        "
   ]
  },
  {
   "cell_type": "markdown",
   "metadata": {},
   "source": [
    "## The continue Keyword"
   ]
  },
  {
   "cell_type": "code",
   "execution_count": 15,
   "metadata": {},
   "outputs": [
    {
     "name": "stdout",
     "output_type": "stream",
     "text": [
      "11\n",
      "13\n",
      "17\n",
      "19\n",
      "23\n",
      "29\n",
      "31\n",
      "37\n",
      "41\n",
      "43\n",
      "47\n",
      "53\n",
      "59\n",
      "61\n",
      "67\n",
      "71\n",
      "73\n",
      "79\n",
      "83\n",
      "89\n",
      "97\n"
     ]
    }
   ],
   "source": [
    "# \n",
    "for num in range(10,100):\n",
    "    if num % 2 == 0:\n",
    "        continue\n",
    "    if num % 3 == 0:\n",
    "        continue\n",
    "    if num % 5 == 0:\n",
    "        continue\n",
    "    if num % 7 == 0:\n",
    "        continue\n",
    "    print(num)      "
   ]
  },
  {
   "cell_type": "code",
   "execution_count": 16,
   "metadata": {},
   "outputs": [
    {
     "name": "stdout",
     "output_type": "stream",
     "text": [
      "[['Roya', '601', '01711957414', 'J.G.C'], ['BOny', '601', '01711957414', 'J.G.C'], ['Rumi', '601', '01711957414', 'J.G.C']]\n"
     ]
    }
   ],
   "source": [
    "our_customer = [['Roya','601','01711957414','J.G.C'],\n",
    "                ['BOny','601','01711957414','J.G.C'],\n",
    "                ['Rumi','601','01711957414','J.G.C']]\n",
    "\n",
    "print(our_customer)\n"
   ]
  },
  {
   "cell_type": "code",
   "execution_count": 17,
   "metadata": {},
   "outputs": [
    {
     "name": "stdout",
     "output_type": "stream",
     "text": [
      "['BOny', '601', '01711957414', 'J.G.C']\n"
     ]
    }
   ],
   "source": [
    "our_customer = [['Roya','601','01711957414','J.G.C'],\n",
    "                ['BOny','601','01711957414','J.G.C'],\n",
    "                ['Rumi','601','01711957414','J.G.C']]\n",
    "print(our_customer[1])"
   ]
  },
  {
   "cell_type": "code",
   "execution_count": 18,
   "metadata": {},
   "outputs": [
    {
     "name": "stdout",
     "output_type": "stream",
     "text": [
      "name:  Roya\n",
      "House:  601\n",
      "Phone number:  01711957414\n",
      "Location:  J.G.C\n",
      "\n",
      "\n",
      "name:  BOny\n",
      "House:  601\n",
      "Phone number:  01711957414\n",
      "Location:  J.G.C\n",
      "\n",
      "\n",
      "name:  Rumi\n",
      "House:  601\n",
      "Phone number:  01711957414\n",
      "Location:  J.G.C\n",
      "\n",
      "\n"
     ]
    }
   ],
   "source": [
    "our_customer = [['Roya','601','01711957414','J.G.C'],\n",
    "                ['BOny','601','01711957414','J.G.C'],\n",
    "                ['Rumi','601','01711957414','J.G.C']]\n",
    "\n",
    "for x in our_customer:\n",
    "    print(\"name: \", x[0])\n",
    "    print(\"House: \", x[1])\n",
    "    print(\"Phone number: \",x[2])\n",
    "    print(\"Location: \",x[3])\n",
    "    print(\"\\n\")\n",
    " "
   ]
  },
  {
   "cell_type": "code",
   "execution_count": 19,
   "metadata": {},
   "outputs": [
    {
     "name": "stdout",
     "output_type": "stream",
     "text": [
      "name:  Roya\n",
      "House:  601\n",
      "Phone number:  01711957414\n",
      "Location:  J.G.C\n",
      "\n",
      "\n",
      "name:  BOny\n",
      "House:  601\n",
      "Phone number:  01711957414\n",
      "Location:  J.G.C\n",
      "\n",
      "\n",
      "name:  Rumi\n",
      "House:  601\n",
      "Phone number:  01711957414\n",
      "Location:  J.G.C\n",
      "\n",
      "\n"
     ]
    }
   ],
   "source": [
    "our_customer = [['Roya','601','01711957414','J.G.C'],\n",
    "                ['BOny','601','01711957414','J.G.C'],\n",
    "                ['Rumi','601','01711957414','J.G.C']]\n",
    "\n",
    "for x in our_customer:    \n",
    "    print(\"name: \", x[0])\n",
    "    print(\"House: \", x[1])\n",
    "    print(\"Phone number: \",x[2])\n",
    "    print(\"Location: \",x[3])\n",
    "    print(\"\\n\")\n"
   ]
  },
  {
   "cell_type": "markdown",
   "metadata": {},
   "source": [
    "# Programs, Algorithms, Functions"
   ]
  },
  {
   "cell_type": "code",
   "execution_count": 20,
   "metadata": {},
   "outputs": [
    {
     "ename": "SyntaxError",
     "evalue": "invalid syntax (<ipython-input-20-40a73b396dda>, line 1)",
     "output_type": "error",
     "traceback": [
      "\u001b[1;36m  File \u001b[1;32m\"<ipython-input-20-40a73b396dda>\"\u001b[1;36m, line \u001b[1;32m1\u001b[0m\n\u001b[1;33m    current_time.py:\u001b[0m\n\u001b[1;37m                    ^\u001b[0m\n\u001b[1;31mSyntaxError\u001b[0m\u001b[1;31m:\u001b[0m invalid syntax\n"
     ]
    }
   ],
   "source": [
    "current_time.py:"
   ]
  },
  {
   "cell_type": "code",
   "execution_count": null,
   "metadata": {},
   "outputs": [],
   "source": [
    "\"\"\"This script returns the current system time\"\"\"\n",
    "\n",
    "import datetime\n",
    "\n",
    "name = 1\n",
    "time = datetime.datetime.now().time()\n",
    "print(time)\n"
   ]
  },
  {
   "cell_type": "code",
   "execution_count": null,
   "metadata": {},
   "outputs": [],
   "source": [
    "iport"
   ]
  },
  {
   "cell_type": "code",
   "execution_count": null,
   "metadata": {},
   "outputs": [],
   "source": [
    "from datetime import time\n",
    "time = datetime.datatime.asc().time()\n",
    "print(time)"
   ]
  },
  {
   "cell_type": "code",
   "execution_count": 21,
   "metadata": {},
   "outputs": [
    {
     "name": "stdout",
     "output_type": "stream",
     "text": [
      "['Thu', 'Aug', '11', '03:41:12', '2022']\n",
      "Thu Aug 11 03:41:12 2022\n"
     ]
    }
   ],
   "source": [
    "import time\n",
    "x = time.asctime()\n",
    "new =  x.split(\" \")\n",
    "print(new)\n",
    "print(x)"
   ]
  },
  {
   "cell_type": "code",
   "execution_count": 22,
   "metadata": {},
   "outputs": [
    {
     "name": "stdout",
     "output_type": "stream",
     "text": [
      "Thu\n"
     ]
    }
   ],
   "source": [
    "import time\n",
    "x = time.asctime()\n",
    "new =  x.split(\" \") # using split method... splitb method make a list.\n",
    "print(new[0])\n"
   ]
  },
  {
   "cell_type": "markdown",
   "metadata": {},
   "source": [
    "# Linear search algorithm  "
   ]
  },
  {
   "cell_type": "code",
   "execution_count": 23,
   "metadata": {},
   "outputs": [
    {
     "name": "stdout",
     "output_type": "stream",
     "text": [
      "Enter size of the list:\t\n"
     ]
    },
    {
     "ename": "ValueError",
     "evalue": "invalid literal for int() with base 10: ''",
     "output_type": "error",
     "traceback": [
      "\u001b[1;31m---------------------------------------------------------------------------\u001b[0m",
      "\u001b[1;31mValueError\u001b[0m                                Traceback (most recent call last)",
      "\u001b[1;32m<ipython-input-23-7f8aa9def9ee>\u001b[0m in \u001b[0;36m<module>\u001b[1;34m\u001b[0m\n\u001b[0;32m      1\u001b[0m \u001b[0mlst\u001b[0m \u001b[1;33m=\u001b[0m \u001b[1;33m[\u001b[0m\u001b[1;33m]\u001b[0m\u001b[1;33m\u001b[0m\u001b[1;33m\u001b[0m\u001b[0m\n\u001b[0;32m      2\u001b[0m \u001b[1;33m\u001b[0m\u001b[0m\n\u001b[1;32m----> 3\u001b[1;33m \u001b[0mnum\u001b[0m \u001b[1;33m=\u001b[0m \u001b[0mint\u001b[0m\u001b[1;33m(\u001b[0m\u001b[0minput\u001b[0m\u001b[1;33m(\u001b[0m\u001b[1;34m\"Enter size of the list:\\t\"\u001b[0m\u001b[1;33m)\u001b[0m\u001b[1;33m)\u001b[0m\u001b[1;33m\u001b[0m\u001b[1;33m\u001b[0m\u001b[0m\n\u001b[0m\u001b[0;32m      4\u001b[0m \u001b[1;33m\u001b[0m\u001b[0m\n\u001b[0;32m      5\u001b[0m \u001b[1;32mfor\u001b[0m \u001b[0mn\u001b[0m \u001b[1;32min\u001b[0m \u001b[0mrange\u001b[0m\u001b[1;33m(\u001b[0m\u001b[0mnum\u001b[0m\u001b[1;33m)\u001b[0m\u001b[1;33m:\u001b[0m\u001b[1;33m\u001b[0m\u001b[1;33m\u001b[0m\u001b[0m\n",
      "\u001b[1;31mValueError\u001b[0m: invalid literal for int() with base 10: ''"
     ]
    }
   ],
   "source": [
    "lst = []\n",
    "\n",
    "num = int(input(\"Enter size of the list:\\t\"))\n",
    "\n",
    "for n in range(num):\n",
    "    numbers = int(input(\"Enter list of number: \\t\"))\n",
    "    lst.append(numbers)\n",
    "\n",
    "found = False\n",
    "\n",
    "x = int(input(\"Enter a number to searched: \\t\"))\n",
    "\n",
    "for i in range(len(lst)):\n",
    "    if x == lst[i]:\n",
    "        found = True\n",
    "\n",
    "        print(\"\\n %d found at position %d\" % (x, i))\n",
    "        break\n",
    "\n",
    "if not found:\n",
    "    print(\"\\n %d this number is not in list\" % x)\n"
   ]
  },
  {
   "cell_type": "code",
   "execution_count": null,
   "metadata": {},
   "outputs": [],
   "source": []
  },
  {
   "cell_type": "markdown",
   "metadata": {},
   "source": [
    "# My Exersise"
   ]
  },
  {
   "cell_type": "code",
   "execution_count": null,
   "metadata": {
    "scrolled": false
   },
   "outputs": [],
   "source": [
    "Fsat_Name = 'Mosh'\n",
    "Old = 20\n",
    "Pasent_Catagori = 'new pasent'\n",
    "\n",
    "print(f\"{Fsat_Name}\\n{Old}\\n{Pasent_Catagori}\")"
   ]
  },
  {
   "cell_type": "code",
   "execution_count": null,
   "metadata": {},
   "outputs": [],
   "source": [
    "import datetime\n",
    "\n",
    "\n",
    "project = '                                 Cash Audit sheet'\n",
    "print(project.title())\n",
    "\n",
    "date = datetime.datetime.now()\n",
    "print(date)\n",
    "\n",
    "store_name = input(\"Name of Store: \")\n",
    "\n",
    "mod = input(\"MOD name: \")\n",
    "nottm = input(\"Name of the Team member Name: \")\n",
    "print(\"\\t\\t\")\n",
    "\n",
    "print(\"                                      Denomination\")\n",
    "\n",
    "\n",
    "a1 = int(input(\"1000 x \"))\n",
    "a = 1000 * a1\n",
    "b1 = int(input(\"500 x \"))\n",
    "b = 500 * b1\n",
    "c1 = int(input(\"100 x \"))\n",
    "c = 100 * c1\n",
    "d1 = int(input(\"50 x \"))\n",
    "d = 50 * d1\n",
    "e1 = int(input(\"20 x \"))\n",
    "e = 20 * e1\n",
    "f1 = int(input(\"10 x \"))\n",
    "f = 10 * f1\n",
    "g1 = int(input(\"5 x \"))\n",
    "g = 5 * g1\n",
    "h1 = int(input(\"2 x \"))\n",
    "h = 2 * h1\n",
    "i1 = int(input(\"1 x \"))\n",
    "i = 1 * i1\n",
    "\n",
    "\n",
    "\n",
    "coupons = int(input(\"Coupons: \"))\n",
    "cards = int(input(\"Chards: \"))\n",
    "\n",
    "total = a + b + c + d + e + f + g + h + i + coupons + cards\n",
    "\n",
    "print(f\"Total Amount: {total}\")"
   ]
  },
  {
   "cell_type": "code",
   "execution_count": null,
   "metadata": {},
   "outputs": [],
   "source": [
    "print(hello)"
   ]
  },
  {
   "cell_type": "raw",
   "metadata": {},
   "source": [
    "numr = int(input(\"Enter a number: \"))\n",
    "\n",
    "for n in range(1,numr):\n",
    "    for i in range(2,n):\n",
    "        if(n % i == 0):\n",
    "            break\n",
    "        else:\n",
    "            print(n)"
   ]
  },
  {
   "cell_type": "code",
   "execution_count": null,
   "metadata": {},
   "outputs": [],
   "source": []
  },
  {
   "cell_type": "raw",
   "metadata": {},
   "source": [
    "n = 10\n",
    "for x in range(n):\n",
    "    for y in range(n):\n",
    "        x =+ 1\n",
    "    print(x)\n",
    "\n",
    "    "
   ]
  },
  {
   "cell_type": "markdown",
   "metadata": {},
   "source": [
    "# Its just use string and reverse it. and find this program this is palindrome and not palindrome."
   ]
  },
  {
   "cell_type": "code",
   "execution_count": null,
   "metadata": {},
   "outputs": [],
   "source": [
    "number = input(\"input a number: \")\n",
    "\n",
    "\n",
    "if(str(number)== number[ : : -1]):\n",
    "     print(\"This is a palindrome string number\")\n",
    "else:\n",
    "     print(\"This is not palindrome string number\")\n"
   ]
  },
  {
   "cell_type": "code",
   "execution_count": null,
   "metadata": {},
   "outputs": [],
   "source": [
    "def reverse(num):                     # I have define a parameter called reverse.and \"num\" is a Variable.\n",
    "    st = str(num)                     # Convert variable in string.\n",
    "    revst = st[ : : -1]               # Here the number will reverse.\n",
    "   \n",
    "    return revst\n",
    "\n",
    "num = 6789\n",
    "print(reverse(num))"
   ]
  },
  {
   "cell_type": "markdown",
   "metadata": {},
   "source": [
    "# This solution is mathematically solved. It number reverse mathematically..."
   ]
  },
  {
   "cell_type": "code",
   "execution_count": null,
   "metadata": {},
   "outputs": [],
   "source": [
    "def reverse(num):\n",
    "    store_somthing = 0\n",
    "    while(num > 0):\n",
    "        digit = num % 10\n",
    "        store_somthing = (store_somthing*10) + digit\n",
    "        num = num // 10\n",
    "    return store_somthing\n",
    "num = int(input(\"Please insert a number: \"))\n",
    "print(\"This is the final resut\",reverse(num))"
   ]
  },
  {
   "cell_type": "markdown",
   "metadata": {},
   "source": [
    "# Mathematically solved palindrome number."
   ]
  },
  {
   "cell_type": "code",
   "execution_count": null,
   "metadata": {},
   "outputs": [],
   "source": [
    "num = int(input(\"Please insert a number: \"))\n",
    "\n",
    "def reverse(num):\n",
    "    store_somthing = 0\n",
    "    while(num > 0):\n",
    "        digit = num % 10\n",
    "        store_somthing = (store_somthing*10) + digit\n",
    "        num = num // 10\n",
    "    return store_somthing\n",
    "num2 = reverse(num)\n",
    "\n",
    "if (num == num2):\n",
    "    print(\"This is a palindrome number.\")\n",
    "else:\n",
    "    print(\"This is is a not palindrome number.\")"
   ]
  },
  {
   "cell_type": "markdown",
   "metadata": {},
   "source": [
    "# Ascending Order"
   ]
  },
  {
   "cell_type": "raw",
   "metadata": {},
   "source": [
    "we can use the sort() method to sort the list in ascending order."
   ]
  },
  {
   "cell_type": "code",
   "execution_count": 25,
   "metadata": {},
   "outputs": [
    {
     "name": "stdout",
     "output_type": "stream",
     "text": [
      "Unordered list:  [67, 2, 999, 1, 15]\n",
      "Ordered list:  [1, 2, 15, 67, 999]\n"
     ]
    }
   ],
   "source": [
    "my_list = [67, 2, 999, 1, 15]\n",
    "\n",
    "# this prints the unordered list\n",
    "print(\"Unordered list: \", my_list)\n",
    "\n",
    "# sorts the list in place\n",
    "my_list.sort()\n",
    "\n",
    "# this prints the ordered list\n",
    "print(\"Ordered list: \", my_list)"
   ]
  },
  {
   "cell_type": "code",
   "execution_count": 26,
   "metadata": {},
   "outputs": [
    {
     "name": "stdout",
     "output_type": "stream",
     "text": [
      "None\n"
     ]
    }
   ],
   "source": [
    "my_list = [6, 7, 8, 9, 10]\n",
    "\n",
    "# this will return None because the list is already sorted\n",
    "print(my_list.sort())"
   ]
  },
  {
   "cell_type": "markdown",
   "metadata": {},
   "source": [
    "# The sort() method can take in two optional arguments called key and reverse."
   ]
  },
  {
   "cell_type": "code",
   "execution_count": 28,
   "metadata": {},
   "outputs": [
    {
     "name": "stdout",
     "output_type": "stream",
     "text": [
      "Unsorted:  ['Jessica', 'Ben', 'Carl', 'Jackie', 'Wendy']\n",
      "Sorted:  ['Ben', 'Carl', 'Wendy', 'Jackie', 'Jessica']\n"
     ]
    }
   ],
   "source": [
    "\"\"\"\n",
    "In this example, we can use the len() function as the value for the key argument.\n",
    "key=len will tell the computer to sort the list of names by length from smallest to largest.\n",
    "\"\"\"\n",
    "\n",
    "names = [\"Jessica\", \"Ben\", \"Carl\", \"Jackie\", \"Wendy\"]\n",
    "\n",
    "print(\"Unsorted: \", names)\n",
    "names.sort(key=len)\n",
    "print(\"Sorted: \", names)"
   ]
  },
  {
   "cell_type": "code",
   "execution_count": null,
   "metadata": {},
   "outputs": [],
   "source": []
  }
 ],
 "metadata": {
  "kernelspec": {
   "display_name": "Python 3",
   "language": "python",
   "name": "python3"
  },
  "language_info": {
   "codemirror_mode": {
    "name": "ipython",
    "version": 3
   },
   "file_extension": ".py",
   "mimetype": "text/x-python",
   "name": "python",
   "nbconvert_exporter": "python",
   "pygments_lexer": "ipython3",
   "version": "3.8.5"
  }
 },
 "nbformat": 4,
 "nbformat_minor": 4
}
